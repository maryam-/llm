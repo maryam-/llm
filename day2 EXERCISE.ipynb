{
 "cells": [
  {
   "cell_type": "markdown",
   "id": "d15d8294-3328-4e07-ad16-8a03e9bbfdb9",
   "metadata": {},
   "source": [
    "# Welcome to your first assignment!\n",
    "\n",
    "Instructions are below. Please give this a try, and look in the solutions folder if you get stuck (or feel free to ask me!)"
   ]
  },
  {
   "cell_type": "markdown",
   "id": "ada885d9-4d42-4d9b-97f0-74fbbbfe93a9",
   "metadata": {},
   "source": [
    "<table style=\"margin: 0; text-align: left;\">\n",
    "    <tr>\n",
    "        <td style=\"width: 150px; height: 150px; vertical-align: middle;\">\n",
    "            <img src=\"../resources.jpg\" width=\"150\" height=\"150\" style=\"display: block;\" />\n",
    "        </td>\n",
    "        <td>\n",
    "            <h2 style=\"color:#f71;\">Just before we get to the assignment --</h2>\n",
    "            <span style=\"color:#f71;\">I thought I'd take a second to point you at this page of useful resources for the course. This includes links to all the slides.<br/>\n",
    "            <a href=\"https://edwarddonner.com/2024/11/13/llm-engineering-resources/\">https://edwarddonner.com/2024/11/13/llm-engineering-resources/</a><br/>\n",
    "            Please keep this bookmarked, and I'll continue to add more useful links there over time.\n",
    "            </span>\n",
    "        </td>\n",
    "    </tr>\n",
    "</table>"
   ]
  },
  {
   "cell_type": "markdown",
   "id": "6e9fa1fc-eac5-4d1d-9be4-541b3f2b3458",
   "metadata": {},
   "source": [
    "# HOMEWORK EXERCISE ASSIGNMENT\n",
    "\n",
    "Upgrade the day 1 project to summarize a webpage to use an Open Source model running locally via Ollama rather than OpenAI\n",
    "\n",
    "You'll be able to use this technique for all subsequent projects if you'd prefer not to use paid APIs.\n",
    "\n",
    "**Benefits:**\n",
    "1. No API charges - open-source\n",
    "2. Data doesn't leave your box\n",
    "\n",
    "**Disadvantages:**\n",
    "1. Significantly less power than Frontier Model\n",
    "\n",
    "## Recap on installation of Ollama\n",
    "\n",
    "Simply visit [ollama.com](https://ollama.com) and install!\n",
    "\n",
    "Once complete, the ollama server should already be running locally.  \n",
    "If you visit:  \n",
    "[http://localhost:11434/](http://localhost:11434/)\n",
    "\n",
    "You should see the message `Ollama is running`.  \n",
    "\n",
    "If not, bring up a new Terminal (Mac) or Powershell (Windows) and enter `ollama serve`  \n",
    "And in another Terminal (Mac) or Powershell (Windows), enter `ollama pull llama3.2`  \n",
    "Then try [http://localhost:11434/](http://localhost:11434/) again.\n",
    "\n",
    "If Ollama is slow on your machine, try using `llama3.2:1b` as an alternative. Run `ollama pull llama3.2:1b` from a Terminal or Powershell, and change the code below from `MODEL = \"llama3.2\"` to `MODEL = \"llama3.2:1b\"`"
   ]
  },
  {
   "cell_type": "code",
   "execution_count": 1,
   "id": "4e2a9393-7767-488e-a8bf-27c12dca35bd",
   "metadata": {},
   "outputs": [],
   "source": [
    "# imports\n",
    "\n",
    "import requests\n",
    "from bs4 import BeautifulSoup\n",
    "from IPython.display import Markdown, display"
   ]
  },
  {
   "cell_type": "code",
   "execution_count": 2,
   "id": "29ddd15d-a3c5-4f4e-a678-873f56162724",
   "metadata": {},
   "outputs": [],
   "source": [
    "# Constants\n",
    "\n",
    "OLLAMA_API = \"http://localhost:11434/api/chat\"\n",
    "HEADERS = {\"Content-Type\": \"application/json\"}\n",
    "MODEL = \"llama3.2\""
   ]
  },
  {
   "cell_type": "code",
   "execution_count": 7,
   "id": "dac0a679-599c-441f-9bf2-ddc73d35b940",
   "metadata": {},
   "outputs": [],
   "source": [
    "# Create a messages list using the same format that we used for OpenAI\n",
    "\n",
    "messages = [\n",
    "    {\"role\": \"user\", \"content\": \"Describe some of the business applications of Generative AI\"}\n",
    "]"
   ]
  },
  {
   "cell_type": "code",
   "execution_count": 4,
   "id": "7bb9c624-14f0-4945-a719-8ddb64f66f47",
   "metadata": {},
   "outputs": [],
   "source": [
    "payload = {\n",
    "        \"model\": MODEL,\n",
    "        \"messages\": messages,\n",
    "        \"stream\": False\n",
    "    }"
   ]
  },
  {
   "cell_type": "code",
   "execution_count": 5,
   "id": "479ff514-e8bd-4985-a572-2ea28bb4fa40",
   "metadata": {},
   "outputs": [
    {
     "name": "stderr",
     "output_type": "stream",
     "text": [
      "'ollama' is not recognized as an internal or external command,\n",
      "operable program or batch file.\n"
     ]
    }
   ],
   "source": [
    "# Let's just make sure the model is loaded\n",
    "\n",
    "!ollama pull llama3.2"
   ]
  },
  {
   "cell_type": "code",
   "execution_count": 6,
   "id": "42b9f644-522d-4e05-a691-56e7658c0ea9",
   "metadata": {},
   "outputs": [
    {
     "name": "stdout",
     "output_type": "stream",
     "text": [
      "Generative AI has numerous business applications across various industries. Here are some examples:\n",
      "\n",
      "1. **Content Generation**: Generative AI can be used to generate high-quality content such as articles, blog posts, social media posts, and product descriptions. This can help businesses save time and money on content creation, while also improving the consistency and quality of their content.\n",
      "2. **Visual Content Creation**: Generative AI can create images, videos, and 3D models that are indistinguishable from those created by humans. This can be used in industries such as advertising, marketing, and entertainment to create visually stunning content.\n",
      "3. **Chatbots and Virtual Assistants**: Generative AI can be used to power chatbots and virtual assistants that provide customer support, answer FAQs, and perform other tasks that require human-like conversation.\n",
      "4. **Predictive Maintenance**: Generative AI can analyze sensor data from machines and predict when maintenance is required, reducing downtime and increasing efficiency.\n",
      "5. **Product Design**: Generative AI can be used to design new products, such as furniture, electronics, or medical devices, by generating multiple designs and allowing users to select the best one.\n",
      "6. **Market Research**: Generative AI can analyze large datasets and generate insights that help businesses understand their customers' needs and preferences.\n",
      "7. **Automated Writing**: Generative AI can be used to automate writing tasks such as grant proposals, academic papers, and marketing copy.\n",
      "8. **Customer Segmentation**: Generative AI can analyze customer data and segment them into groups based on behavior, demographics, and other characteristics.\n",
      "9. **Marketing Automation**: Generative AI can be used to automate marketing campaigns by generating personalized content, emails, and social media posts.\n",
      "10. **Risk Analysis**: Generative AI can analyze large datasets and identify potential risks and opportunities for businesses, allowing them to make informed decisions.\n",
      "\n",
      "Some specific industries that are leveraging generative AI include:\n",
      "\n",
      "* **Finance and Banking**: Generative AI is being used to analyze financial data, predict credit risk, and generate investment ideas.\n",
      "* **Healthcare**: Generative AI is being used to analyze medical images, diagnose diseases, and develop personalized treatment plans.\n",
      "* **Retail**: Generative AI is being used to analyze customer behavior, generate personalized product recommendations, and automate marketing campaigns.\n",
      "* **Manufacturing**: Generative AI is being used to optimize production processes, predict maintenance needs, and design new products.\n",
      "\n",
      "Overall, generative AI has the potential to revolutionize many industries by automating routine tasks, generating high-quality content, and providing insights that help businesses make informed decisions.\n"
     ]
    }
   ],
   "source": [
    "# If this doesn't work for any reason, try the 2 versions in the following cells\n",
    "# And double check the instructions in the 'Recap on installation of Ollama' at the top of this lab\n",
    "# And if none of that works - contact me!\n",
    "\n",
    "response = requests.post(OLLAMA_API, json=payload, headers=HEADERS)\n",
    "print(response.json()['message']['content'])"
   ]
  },
  {
   "cell_type": "markdown",
   "id": "6a021f13-d6a1-4b96-8e18-4eae49d876fe",
   "metadata": {},
   "source": [
    "# Introducing the ollama package\n",
    "\n",
    "And now we'll do the same thing, but using the elegant ollama python package instead of a direct HTTP call.\n",
    "\n",
    "Under the hood, it's making the same call as above to the ollama server running at localhost:11434"
   ]
  },
  {
   "cell_type": "code",
   "execution_count": 8,
   "id": "7745b9c4-57dc-4867-9180-61fa5db55eb8",
   "metadata": {},
   "outputs": [
    {
     "name": "stdout",
     "output_type": "stream",
     "text": [
      "Generative AI has numerous business applications across various industries. Here are some examples:\n",
      "\n",
      "1. **Content Creation**: Generative AI can generate high-quality content such as articles, social media posts, product descriptions, and more. This can help businesses save time and resources while maintaining consistency in their brand's voice.\n",
      "2. **Marketing Automation**: Generative AI can be used to create personalized marketing messages, product recommendations, and targeted ads based on customer behavior and preferences.\n",
      "3. **Product Design**: Generative AI can design new product concepts, such as furniture, electronics, or clothing, by using computer-aided design (CAD) software and 3D modeling techniques.\n",
      "4. **Customer Service Chatbots**: Generative AI-powered chatbots can provide 24/7 customer support, answering common queries and routing complex issues to human representatives.\n",
      "5. **Image and Video Generation**: Generative AI can create high-quality images and videos for advertising, social media, and marketing campaigns.\n",
      "6. **Data Analysis and Insights**: Generative AI can analyze large datasets to identify trends, patterns, and insights that help businesses make informed decisions.\n",
      "7. **Predictive Maintenance**: Generative AI can predict equipment failures and maintenance needs, reducing downtime and increasing overall efficiency.\n",
      "8. **Supply Chain Optimization**: Generative AI can optimize supply chain operations by predicting demand, identifying bottlenecks, and suggesting inventory management strategies.\n",
      "9. **Financial Modeling**: Generative AI can create complex financial models to forecast revenue, expenses, and cash flow, helping businesses make more informed investment decisions.\n",
      "10. **Cybersecurity**: Generative AI can detect and respond to cyber threats in real-time, analyzing network traffic and identifying potential vulnerabilities.\n",
      "11. **Content Moderation**: Generative AI can help moderate online content by detecting hate speech, spam, and other forms of toxic behavior.\n",
      "12. **Product Recommendations**: Generative AI can suggest products based on customer behavior, preferences, and purchase history, increasing sales and revenue.\n",
      "13. **Language Translation**: Generative AI can translate languages in real-time, enabling businesses to communicate with customers worldwide.\n",
      "14. **Customer Segmentation**: Generative AI can segment customers based on their behavior, preferences, and demographics, helping businesses tailor marketing efforts and improve customer engagement.\n",
      "15. **Supply Chain Risk Management**: Generative AI can identify potential risks and disruptions in supply chains, enabling businesses to mitigate them and maintain operational continuity.\n",
      "\n",
      "These are just a few examples of the many business applications of Generative AI. As the technology continues to evolve, we can expect to see even more innovative use cases across various industries.\n"
     ]
    }
   ],
   "source": [
    "import ollama\n",
    "\n",
    "response = ollama.chat(model=MODEL, messages=messages)\n",
    "print(response['message']['content'])"
   ]
  },
  {
   "cell_type": "markdown",
   "id": "a4704e10-f5fb-4c15-a935-f046c06fb13d",
   "metadata": {},
   "source": [
    "## Alternative approach - using OpenAI python library to connect to Ollama"
   ]
  },
  {
   "cell_type": "code",
   "execution_count": 33,
   "id": "23057e00-b6fc-4678-93a9-6b31cb704bff",
   "metadata": {},
   "outputs": [
    {
     "name": "stdout",
     "output_type": "stream",
     "text": [
      "Generative AI has numerous business applications across various industries, including:\n",
      "\n",
      "1. **Content Creation**: Generative AI can be used to generate high-quality content such as text, images, videos, and music. This can be applied in areas like marketing, advertising, and entertainment.\n",
      "2. **Product Design**: Generative AI can design new products and prototypes quickly and efficiently, reducing the time and resources required for traditional product development.\n",
      "3. **Data Science and Analytics**: Generative AI can analyze large datasets to identify trends and patterns, making it a valuable tool for businesses looking to extract insights from their data.\n",
      "4. **Customer Service Chatbots**: Generative AI can generate chatbot scripts that can engage with customers in natural language, providing personalized support and improving customer satisfaction.\n",
      "5. **Marketing Automation**: Generative AI can help automate marketing processes by generating personalized content, email campaigns, and social media posts based on customer data and preferences.\n",
      "6. **Supply Chain Optimization**: Generative AI can be used to optimize supply chain logistics, predicting demand patterns, identifying bottlenecks, and suggesting alternative routes and inventory levels.\n",
      "7. **Cybersecurity Threat Analysis**: Generative AI can help analyze and identify potential cybersecurity threats by analyzing network traffic patterns, system logs, and other data sources.\n",
      "8. **Financial Forecasting**: Generative AI can use machine learning algorithms to forecast financial trends, making it an essential tool for businesses looking to make informed investment decisions.\n",
      "9. **Medical Imaging Analysis**: Generative AI can be used to analyze medical images to help diagnose diseases more quickly and accurately than human radiologists.\n",
      "10. **Autonomous Systems**: Generative AI can be applied to autonomous systems like self-driving cars, drones, or robots to generate maps, route optimization, and object detection.\n",
      "\n",
      "Some specific examples of businesses using generative AI include:\n",
      "\n",
      "* **Netflix**: uses generative AI to optimize content recommendations for users based on their viewing habits.\n",
      "* **Amazon**: uses generative AI to personalize product suggestions for customers based on their browsing history and purchasing behavior.\n",
      "* **L'Oréal**: uses generative AI to create custom beauty products for individual customers using a mobile app.\n",
      "* **IBM Watson**: uses generative AI to analyze large datasets and provide insights on stock market trends, medical research, and other business areas.\n",
      "\n",
      "These are just a few examples of the many ways businesses are leveraging generative AI to improve their operations, innovate, and stay competitive.\n"
     ]
    }
   ],
   "source": [
    "# There's actually an alternative approach that some people might prefer\n",
    "# You can use the OpenAI client python library to call Ollama:\n",
    "\n",
    "from openai import OpenAI\n",
    "ollama_via_openai = OpenAI(base_url='http://localhost:11434/v1', api_key='ollama')\n",
    "\n",
    "response = ollama_via_openai.chat.completions.create(\n",
    "    model=MODEL,\n",
    "    messages=messages\n",
    ")\n",
    "\n",
    "print(response.choices[0].message.content)"
   ]
  },
  {
   "cell_type": "markdown",
   "id": "1622d9bb-5c68-4d4e-9ca4-b492c751f898",
   "metadata": {},
   "source": [
    "# NOW the exercise for you\n",
    "\n",
    "Take the code from day1 and incorporate it here, to build a website summarizer that uses Llama 3.2 running locally instead of OpenAI; use either of the above approaches."
   ]
  },
  {
   "cell_type": "code",
   "execution_count": 9,
   "id": "a0ed9b97-66fe-41ff-9109-1bc0266f235b",
   "metadata": {},
   "outputs": [],
   "source": [
    "# A class to represent a Webpage\n",
    "# If you're not familiar with Classes, check out the \"Intermediate Python\" notebook\n",
    "\n",
    "# Some websites need you to use proper headers when fetching them:\n",
    "headers = {\n",
    " \"User-Agent\": \"Mozilla/5.0 (Windows NT 10.0; Win64; x64) AppleWebKit/537.36 (KHTML, like Gecko) Chrome/117.0.0.0 Safari/537.36\"\n",
    "}\n",
    "\n",
    "class Website:\n",
    "\n",
    "    def __init__(self, url):\n",
    "        \"\"\"\n",
    "        Create this Website object from the given url using the BeautifulSoup library\n",
    "        \"\"\"\n",
    "        self.url = url\n",
    "        response = requests.get(url, headers=headers)\n",
    "        soup = BeautifulSoup(response.content, 'html.parser')\n",
    "        self.title = soup.title.string if soup.title else \"No title found\"\n",
    "        for irrelevant in soup.body([\"script\", \"style\", \"img\", \"input\"]):\n",
    "            irrelevant.decompose()\n",
    "        self.text = soup.body.get_text(separator=\"\\n\", strip=True)\n",
    "\n",
    "# Let's try one out. Change the website and add print statements to follow along.\n",
    "\n",
    "ed = Website(\"https://www.neilsonfs.com/\") # https://edwarddonner.com\")\n",
    "# print(ed.title)\n",
    "# print(ed.text)"
   ]
  },
  {
   "cell_type": "code",
   "execution_count": 10,
   "id": "639273a3-e842-4d23-8e50-e60c6631c409",
   "metadata": {},
   "outputs": [],
   "source": [
    "# Define our system prompt - you can experiment with this later, changing the last sentence to 'Respond in markdown in Spanish.\"\n",
    "\n",
    "system_prompt = \"You are an assistant that analyzes the contents of a website \\\n",
    "and provides a short summary, ignoring text that might be navigation related. \\\n",
    "Respond in markdown.\"\n",
    "\n",
    "# A function that writes a User Prompt that asks for summaries of websites:\n",
    "\n",
    "def user_prompt_for(website):\n",
    "    user_prompt = f\"You are looking at a website titled {website.title}\"\n",
    "    user_prompt += \"\\nThe contents of this website is as follows; \\\n",
    "    please provide a short summary of this website in markdown. \\\n",
    "    If it includes news or announcements, then summarize these too.\\n\\n\"\n",
    "    user_prompt += website.text\n",
    "    return user_prompt"
   ]
  },
  {
   "cell_type": "code",
   "execution_count": 19,
   "id": "46b51d60-a7e0-41e5-a05d-bf7792ddd8d7",
   "metadata": {},
   "outputs": [
    {
     "data": {
      "text/plain": [
       "[{'role': 'user',\n",
       "  'content': 'You are looking at a website titled Home | Neilson Financial Services\\nThe contents of this website is as follows;     please provide a short summary of this website in markdown.     If it includes news or announcements, then summarize these too.\\n\\nHome\\nAbout Us\\nOur Team\\nOur Brands\\nOur Locations\\nJoin Us\\nGlobal protection specialists\\nProtecting customers is our aim\\nNeilson Financial Services is a global specialist provider of life insurance. In the UK and Canada, Neilson provides insurance products directly to consumers via our retail and partnership brands.\\nOur ambition is to protect and help as many people as possible by making products available however they want to buy them - whether online or offline, with guided or full advice or in conjunction with our corporate partners.\\nWe are excited to be launching in Sydney, Australia - coming soon!\\nTo find out more contact us at\\nenquiries@neilsonfs.com\\nJoin Us\\nenquiries@neilsonfs.com\\nPrivacy Policy\\nCandidate Privacy Policy\\nCookie Policy\\nComplaints\\nDirectors Statement\\nModern Slavery\\nNeilson Financial Services Limited is authorised and regulated by the Financial Conduct Authority and entered on the Financial Services Register under reference 594926. Registered Office: 2 Windsor Dials, Arthur Road, Windsor, SL4 1RS. Registered in England and Wales, number 07986483.\\n\\nNeilson Insurance Services Canada Inc. is incorporated and registered in Alberta whose registered office is at 850 - 2nd Street SW, 15th Floor, Bankers Court, Calgary, Alberta T2P 0R8.\\n\\nNeilson Financial Services Inc. is incorporated and registered in Ontario whose registered office is at 130 King St W, Toronto, Ontario M5X 2A2.'}]"
      ]
     },
     "execution_count": 19,
     "metadata": {},
     "output_type": "execute_result"
    }
   ],
   "source": [
    "# print(user_prompt_for(ed))\n",
    "# MODEL\n",
    "messages = [\n",
    "    {\"role\": \"user\", \"content\": user_prompt_for(ed)}\n",
    "]"
   ]
  },
  {
   "cell_type": "code",
   "execution_count": 20,
   "id": "f4d3c115-443a-4eeb-8daf-9d3bdb0705ce",
   "metadata": {},
   "outputs": [
    {
     "name": "stdout",
     "output_type": "stream",
     "text": [
      "### Summary of Neilson Financial Services Website\n",
      "\n",
      "*   **Company Overview**: Neilson Financial Services is a global specialist provider of life insurance with a presence in the UK and Canada.\n",
      "*   **Mission Statement**: Protecting customers is their aim, aiming to make products available for consumers through various channels (online, offline, guided or full advice).\n",
      "*   **New Launch**: They are excited to launch in Sydney, Australia soon.\n",
      "\n",
      "### News/Announcements\n",
      "\n",
      "The website announces that Neilson Financial Services will be launching in Sydney, Australia, and invites customers to find out more about this launch by contacting them at enquiries@neilsonfs.com.\n",
      "You are looking at a website titled Home | Neilson Financial Services\n",
      "The contents of this website is as follows;     please provide a short summary of this website in markdown.     If it includes news or announcements, then summarize these too.\n",
      "\n",
      "Home\n",
      "About Us\n",
      "Our Team\n",
      "Our Brands\n",
      "Our Locations\n",
      "Join Us\n",
      "Global protection specialists\n",
      "Protecting customers is our aim\n",
      "Neilson Financial Services is a global specialist provider of life insurance. In the UK and Canada, Neilson provides insurance products directly to consumers via our retail and partnership brands.\n",
      "Our ambition is to protect and help as many people as possible by making products available however they want to buy them - whether online or offline, with guided or full advice or in conjunction with our corporate partners.\n",
      "We are excited to be launching in Sydney, Australia - coming soon!\n",
      "To find out more contact us at\n",
      "enquiries@neilsonfs.com\n",
      "Join Us\n",
      "enquiries@neilsonfs.com\n",
      "Privacy Policy\n",
      "Candidate Privacy Policy\n",
      "Cookie Policy\n",
      "Complaints\n",
      "Directors Statement\n",
      "Modern Slavery\n",
      "Neilson Financial Services Limited is authorised and regulated by the Financial Conduct Authority and entered on the Financial Services Register under reference 594926. Registered Office: 2 Windsor Dials, Arthur Road, Windsor, SL4 1RS. Registered in England and Wales, number 07986483.\n",
      "\n",
      "Neilson Insurance Services Canada Inc. is incorporated and registered in Alberta whose registered office is at 850 - 2nd Street SW, 15th Floor, Bankers Court, Calgary, Alberta T2P 0R8.\n",
      "\n",
      "Neilson Financial Services Inc. is incorporated and registered in Ontario whose registered office is at 130 King St W, Toronto, Ontario M5X 2A2.\n"
     ]
    }
   ],
   "source": [
    "import ollama\n",
    "\n",
    "response = ollama.chat(model=MODEL, messages=messages)\n",
    "print(response['message']['content'])\n",
    "\n",
    "print(user_prompt_for(ed))"
   ]
  },
  {
   "cell_type": "code",
   "execution_count": null,
   "id": "4b976a6d-5caa-465b-b734-ea1021d98223",
   "metadata": {},
   "outputs": [],
   "source": []
  }
 ],
 "metadata": {
  "kernelspec": {
   "display_name": "Python 3 (ipykernel)",
   "language": "python",
   "name": "python3"
  },
  "language_info": {
   "codemirror_mode": {
    "name": "ipython",
    "version": 3
   },
   "file_extension": ".py",
   "mimetype": "text/x-python",
   "name": "python",
   "nbconvert_exporter": "python",
   "pygments_lexer": "ipython3",
   "version": "3.11.11"
  }
 },
 "nbformat": 4,
 "nbformat_minor": 5
}
